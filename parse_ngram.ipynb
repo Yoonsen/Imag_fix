{
 "cells": [
  {
   "cell_type": "code",
   "execution_count": 2,
   "id": "64959333-6386-48db-a874-80e9baf35523",
   "metadata": {},
   "outputs": [],
   "source": [
    "from lark import Lark"
   ]
  },
  {
   "cell_type": "code",
   "execution_count": 3,
   "id": "f806d2cc-a7ff-4d1a-a189-b115696533b3",
   "metadata": {},
   "outputs": [],
   "source": [
    "from lark import Lark, Transformer, v_args\n",
    "\n",
    "calc_grammar = \"\"\"\n",
    "    ?start: sum\n",
    "          | NAME \"=\" sum    -> assign_var\n",
    "\n",
    "    ?sum: product\n",
    "        | sum \"+\" product   -> add\n",
    "        | sum \"-\" product   -> sub\n",
    "\n",
    "    ?product: atom\n",
    "        | product \"*\" atom  -> mul\n",
    "        | product \"/\" atom  -> div\n",
    "\n",
    "    ?atom: NUMBER           -> number\n",
    "         | \"-\" atom         -> neg\n",
    "         | NAME             -> var\n",
    "         | \"(\" sum \")\"\n",
    "\n",
    "    %import common.CNAME -> NAME\n",
    "    %import common.NUMBER\n",
    "    %import common.WS_INLINE\n",
    "\n",
    "    %ignore WS_INLINE\n",
    "\"\"\"\n",
    "\n",
    "\n",
    "@v_args(inline=True)    # Affects the signatures of the methods\n",
    "class CalculateTree(Transformer):\n",
    "    from operator import add, sub, mul, truediv as div, neg\n",
    "    number = float\n",
    "\n",
    "    def __init__(self):\n",
    "        self.vars = {}\n",
    "\n",
    "    def assign_var(self, name, value):\n",
    "        self.vars[name] = value\n",
    "        return value\n",
    "\n",
    "    def var(self, name):\n",
    "        try:\n",
    "            return self.vars[name]\n",
    "        except KeyError:\n",
    "            raise Exception(\"Variable not found: %s\" % name)"
   ]
  },
  {
   "cell_type": "code",
   "execution_count": 4,
   "id": "f803c160-33b3-4539-a57b-945f6650f935",
   "metadata": {},
   "outputs": [],
   "source": [
    "calc_parser = Lark(calc_grammar, parser='lalr', transformer=CalculateTree())\n",
    "calc = calc_parser.parse\n",
    "\n",
    "\n"
   ]
  },
  {
   "cell_type": "code",
   "execution_count": 13,
   "id": "31acee3c-77b1-4a49-acd2-de75872abb6a",
   "metadata": {},
   "outputs": [
    {
     "data": {
      "text/plain": [
       "30.0"
      ]
     },
     "execution_count": 13,
     "metadata": {},
     "output_type": "execute_result"
    }
   ],
   "source": [
    "calc(\"a=(2*3)/2\")\n",
    "calc(\"a*10\")"
   ]
  },
  {
   "cell_type": "code",
   "execution_count": null,
   "id": "503b7c2b-302d-4f4d-8f78-dac27eacf7c6",
   "metadata": {},
   "outputs": [],
   "source": []
  }
 ],
 "metadata": {
  "kernelspec": {
   "display_name": "Python 3 (ipykernel)",
   "language": "python",
   "name": "python3"
  },
  "language_info": {
   "codemirror_mode": {
    "name": "ipython",
    "version": 3
   },
   "file_extension": ".py",
   "mimetype": "text/x-python",
   "name": "python",
   "nbconvert_exporter": "python",
   "pygments_lexer": "ipython3",
   "version": "3.11.5"
  }
 },
 "nbformat": 4,
 "nbformat_minor": 5
}
